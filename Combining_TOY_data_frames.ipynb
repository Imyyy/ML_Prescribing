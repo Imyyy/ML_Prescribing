{
 "cells": [
  {
   "cell_type": "markdown",
   "metadata": {},
   "source": [
    "# Import the data frames"
   ]
  },
  {
   "cell_type": "markdown",
   "metadata": {},
   "source": [
    "Sorted out the columns - confirmed they are all there.  \n",
    "Now need to drop unnecessary columns as I go"
   ]
  },
  {
   "cell_type": "code",
   "execution_count": 252,
   "metadata": {},
   "outputs": [],
   "source": [
    "import pandas as pd\n",
    "import numpy as np\n",
    "import seaborn as sns"
   ]
  },
  {
   "cell_type": "code",
   "execution_count": 253,
   "metadata": {},
   "outputs": [],
   "source": [
    "drug = pandas.read_csv(\"T201911CHEM_SUBS.csv\")\n",
    "gp = pandas.read_csv(\"gpheadings.csv\")\n",
    "people = pandas.read_csv(\"people.csv\")\n",
    "structure = pandas.read_csv(\"structure.csv\")\n",
    "allgp = pandas.read_csv(\"allgp.csv\")\n",
    "toypres = pandas.read_csv(\"ToyPres.csv\")"
   ]
  },
  {
   "cell_type": "markdown",
   "metadata": {},
   "source": [
    "# Functions"
   ]
  },
  {
   "cell_type": "code",
   "execution_count": 254,
   "metadata": {},
   "outputs": [],
   "source": [
    "# Rename any column that ends in _x from the merger function\n",
    "def rename_x(df):\n",
    "    for col in df:\n",
    "        if col.endswith('_x'):\n",
    "            df.rename(columns={col:col.rstrip('_x')}, inplace=True)\n"
   ]
  },
  {
   "cell_type": "code",
   "execution_count": 255,
   "metadata": {},
   "outputs": [],
   "source": [
    "# Remove any column that is unnamed in the dataframe \n",
    "# Bit of a misnomer\n",
    "def rename_unname(df):\n",
    "    for col in df:\n",
    "        if col.startswith('Unnamed'):\n",
    "            df.drop(col,axis=1, inplace=True)"
   ]
  },
  {
   "cell_type": "code",
   "execution_count": 256,
   "metadata": {},
   "outputs": [],
   "source": [
    "# Drop any column names _y at the end, as this is a duplicate column from the merge unc\n",
    "def drop_y(df):\n",
    "    to_drop = [x for x in df if x.endswith('_y')]\n",
    "    df.drop(to_drop, axis=1, inplace=True)\n",
    "#Might try and not run this for a bit, as think it might be dropping too much?"
   ]
  },
  {
   "cell_type": "markdown",
   "metadata": {},
   "source": [
    "# Merging datasets"
   ]
  },
  {
   "cell_type": "markdown",
   "metadata": {},
   "source": [
    "### gp and allgp"
   ]
  },
  {
   "cell_type": "code",
   "execution_count": 257,
   "metadata": {},
   "outputs": [],
   "source": [
    "rename_unname(gp)\n",
    "rename_unname(allgp)\n",
    "allgp.rename(columns={'Postcode':'To_drop', '1974...':'Postcode', 'NA.10':'Setting_all_gp_reference', 'NA.8':'Provider'}, inplace=True)"
   ]
  },
  {
   "cell_type": "code",
   "execution_count": 258,
   "metadata": {},
   "outputs": [],
   "source": [
    "#allgp.head()"
   ]
  },
  {
   "cell_type": "code",
   "execution_count": 259,
   "metadata": {},
   "outputs": [],
   "source": [
    "to_drop = ['To_drop', 'NA', 'NA.1', 'NA.2','NA.3', 'NA.4', 'NA.5', 'NA.6', 'NA.7', 'NA.9', 'NA.11']\n",
    "allgp.drop(to_drop, axis=1, inplace=True) \n",
    "\n",
    "# Remove the unneccessaruy columns"
   ]
  },
  {
   "cell_type": "code",
   "execution_count": 260,
   "metadata": {},
   "outputs": [
    {
     "name": "stdout",
     "output_type": "stream",
     "text": [
      "['Organisation_code', 'Address_1', 'National_grouping', 'High_level_health_geography', 'Address_2', 'Address_3', 'Address_4', 'Area', 'Postcode', 'Date_open', 'Date_close', 'Status_code', 'Subtype', 'Commissioner', 'Provider', 'Setting_all_gp_reference']\n"
     ]
    }
   ],
   "source": [
    "print(list(allgp.columns))"
   ]
  },
  {
   "cell_type": "code",
   "execution_count": 261,
   "metadata": {},
   "outputs": [],
   "source": [
    "# Create a dataset that is a merged version of gp and all gp\n",
    "final = pd.merge(gp, allgp, how=\"outer\", left_on=[\"E8...\"], right_on=[\"Organisation_code\"])"
   ]
  },
  {
   "cell_type": "code",
   "execution_count": 262,
   "metadata": {},
   "outputs": [
    {
     "data": {
      "text/html": [
       "<div>\n",
       "<style scoped>\n",
       "    .dataframe tbody tr th:only-of-type {\n",
       "        vertical-align: middle;\n",
       "    }\n",
       "\n",
       "    .dataframe tbody tr th {\n",
       "        vertical-align: top;\n",
       "    }\n",
       "\n",
       "    .dataframe thead th {\n",
       "        text-align: right;\n",
       "    }\n",
       "</style>\n",
       "<table border=\"1\" class=\"dataframe\">\n",
       "  <thead>\n",
       "    <tr style=\"text-align: right;\">\n",
       "      <th></th>\n",
       "      <th>timepoint</th>\n",
       "      <th>E8...</th>\n",
       "      <th>Name</th>\n",
       "      <th>Address_1</th>\n",
       "      <th>Address_2</th>\n",
       "      <th>Address_3</th>\n",
       "      <th>Area</th>\n",
       "      <th>Postcode</th>\n",
       "      <th>National_grouping</th>\n",
       "      <th>High_level_health_geography</th>\n",
       "      <th>Date_open</th>\n",
       "      <th>Date_close</th>\n",
       "      <th>Status_code</th>\n",
       "      <th>Subtype</th>\n",
       "      <th>Commissioner</th>\n",
       "      <th>Setting_all_gp_reference</th>\n",
       "    </tr>\n",
       "  </thead>\n",
       "  <tbody>\n",
       "    <tr>\n",
       "      <th>0</th>\n",
       "      <td>201911.0</td>\n",
       "      <td>E82603</td>\n",
       "      <td>CASSIO SURGERY</td>\n",
       "      <td>1ST FLOOR COLNE HOUSE</td>\n",
       "      <td>21 UPTON ROAD</td>\n",
       "      <td>WATFORD</td>\n",
       "      <td>HERTFORDSHIRE</td>\n",
       "      <td>WD18 0JP</td>\n",
       "      <td>Y61</td>\n",
       "      <td>Q79</td>\n",
       "      <td>19740401</td>\n",
       "      <td>NaN</td>\n",
       "      <td>A</td>\n",
       "      <td>B</td>\n",
       "      <td>06N</td>\n",
       "      <td>4</td>\n",
       "    </tr>\n",
       "    <tr>\n",
       "      <th>1</th>\n",
       "      <td>201911.0</td>\n",
       "      <td>E82641</td>\n",
       "      <td>MANOR HOUSE SURGERY</td>\n",
       "      <td>MANOR HOUSE SURGERY</td>\n",
       "      <td>EMPERORS GATE</td>\n",
       "      <td>CHELLS MANOR  STEVENAGE</td>\n",
       "      <td>HERTFORDSHIRE</td>\n",
       "      <td>SG2 7QX</td>\n",
       "      <td>Y61</td>\n",
       "      <td>Q79</td>\n",
       "      <td>19890220</td>\n",
       "      <td>NaN</td>\n",
       "      <td>A</td>\n",
       "      <td>B</td>\n",
       "      <td>06K</td>\n",
       "      <td>4</td>\n",
       "    </tr>\n",
       "    <tr>\n",
       "      <th>2</th>\n",
       "      <td>201911.0</td>\n",
       "      <td>E83039</td>\n",
       "      <td>RAVENSCROFT MEDICAL CENTRE</td>\n",
       "      <td>RAVENSCROFT MEDICAL CTR</td>\n",
       "      <td>166-168 GOLDERS GREEN RD</td>\n",
       "      <td>GOLDERS GREEN</td>\n",
       "      <td>LONDON</td>\n",
       "      <td>NW11 8BB</td>\n",
       "      <td>Y56</td>\n",
       "      <td>Q71</td>\n",
       "      <td>19740401</td>\n",
       "      <td>NaN</td>\n",
       "      <td>A</td>\n",
       "      <td>B</td>\n",
       "      <td>07M</td>\n",
       "      <td>4</td>\n",
       "    </tr>\n",
       "    <tr>\n",
       "      <th>3</th>\n",
       "      <td>201911.0</td>\n",
       "      <td>E83046</td>\n",
       "      <td>MULBERRY MEDICAL PRACTICE</td>\n",
       "      <td>3 SEFTON AVENUE</td>\n",
       "      <td>NaN</td>\n",
       "      <td>MILL HILL</td>\n",
       "      <td>LONDON</td>\n",
       "      <td>NW7 3QB</td>\n",
       "      <td>Y56</td>\n",
       "      <td>Q71</td>\n",
       "      <td>19740401</td>\n",
       "      <td>NaN</td>\n",
       "      <td>A</td>\n",
       "      <td>B</td>\n",
       "      <td>07M</td>\n",
       "      <td>4</td>\n",
       "    </tr>\n",
       "    <tr>\n",
       "      <th>4</th>\n",
       "      <td>201911.0</td>\n",
       "      <td>E84020</td>\n",
       "      <td>JAI MEDICAL CENTRE (BRENT)</td>\n",
       "      <td>82 STAG LANE</td>\n",
       "      <td>EDGWARE</td>\n",
       "      <td>MIDDLESEX</td>\n",
       "      <td>NaN</td>\n",
       "      <td>HA8 5LP</td>\n",
       "      <td>Y56</td>\n",
       "      <td>Q71</td>\n",
       "      <td>19740401</td>\n",
       "      <td>NaN</td>\n",
       "      <td>A</td>\n",
       "      <td>B</td>\n",
       "      <td>07P</td>\n",
       "      <td>4</td>\n",
       "    </tr>\n",
       "  </tbody>\n",
       "</table>\n",
       "</div>"
      ],
      "text/plain": [
       "   timepoint   E8...                        Name                Address_1  \\\n",
       "0   201911.0  E82603              CASSIO SURGERY    1ST FLOOR COLNE HOUSE   \n",
       "1   201911.0  E82641         MANOR HOUSE SURGERY      MANOR HOUSE SURGERY   \n",
       "2   201911.0  E83039  RAVENSCROFT MEDICAL CENTRE  RAVENSCROFT MEDICAL CTR   \n",
       "3   201911.0  E83046   MULBERRY MEDICAL PRACTICE          3 SEFTON AVENUE   \n",
       "4   201911.0  E84020  JAI MEDICAL CENTRE (BRENT)             82 STAG LANE   \n",
       "\n",
       "                  Address_2                Address_3           Area  Postcode  \\\n",
       "0             21 UPTON ROAD                  WATFORD  HERTFORDSHIRE  WD18 0JP   \n",
       "1             EMPERORS GATE  CHELLS MANOR  STEVENAGE  HERTFORDSHIRE   SG2 7QX   \n",
       "2  166-168 GOLDERS GREEN RD            GOLDERS GREEN         LONDON  NW11 8BB   \n",
       "3                       NaN                MILL HILL         LONDON   NW7 3QB   \n",
       "4                   EDGWARE                MIDDLESEX            NaN   HA8 5LP   \n",
       "\n",
       "  National_grouping High_level_health_geography  Date_open  Date_close  \\\n",
       "0               Y61                         Q79   19740401         NaN   \n",
       "1               Y61                         Q79   19890220         NaN   \n",
       "2               Y56                         Q71   19740401         NaN   \n",
       "3               Y56                         Q71   19740401         NaN   \n",
       "4               Y56                         Q71   19740401         NaN   \n",
       "\n",
       "  Status_code Subtype Commissioner  Setting_all_gp_reference  \n",
       "0           A       B          06N                         4  \n",
       "1           A       B          06K                         4  \n",
       "2           A       B          07M                         4  \n",
       "3           A       B          07M                         4  \n",
       "4           A       B          07P                         4  "
      ]
     },
     "execution_count": 262,
     "metadata": {},
     "output_type": "execute_result"
    }
   ],
   "source": [
    "final.drop(['Organisation_code', 'Provider', 'Address_4'], axis=1, inplace=True) \n",
    "drop_y(final)\n",
    "rename_x(final)\n",
    "rename_unname(final)\n",
    "final.head()"
   ]
  },
  {
   "cell_type": "markdown",
   "metadata": {},
   "source": [
    "### final & people"
   ]
  },
  {
   "cell_type": "code",
   "execution_count": 263,
   "metadata": {},
   "outputs": [
    {
     "data": {
      "text/html": [
       "<div>\n",
       "<style scoped>\n",
       "    .dataframe tbody tr th:only-of-type {\n",
       "        vertical-align: middle;\n",
       "    }\n",
       "\n",
       "    .dataframe tbody tr th {\n",
       "        vertical-align: top;\n",
       "    }\n",
       "\n",
       "    .dataframe thead th {\n",
       "        text-align: right;\n",
       "    }\n",
       "</style>\n",
       "<table border=\"1\" class=\"dataframe\">\n",
       "  <thead>\n",
       "    <tr style=\"text-align: right;\">\n",
       "      <th></th>\n",
       "      <th>PUBLICATION</th>\n",
       "      <th>EXTRACT_DATE</th>\n",
       "      <th>TYPE</th>\n",
       "      <th>CCG_CODE</th>\n",
       "      <th>ONS_CCG_CODE</th>\n",
       "      <th>CODE</th>\n",
       "      <th>POSTCODE</th>\n",
       "      <th>SEX</th>\n",
       "      <th>AGE</th>\n",
       "      <th>NUMBER_OF_PATIENTS</th>\n",
       "    </tr>\n",
       "  </thead>\n",
       "  <tbody>\n",
       "    <tr>\n",
       "      <th>0</th>\n",
       "      <td>GP_PRAC_PAT_LIST</td>\n",
       "      <td>01NOV2019</td>\n",
       "      <td>GP</td>\n",
       "      <td>00C</td>\n",
       "      <td>E38000042</td>\n",
       "      <td>A83005</td>\n",
       "      <td>DL1 3RT</td>\n",
       "      <td>ALL</td>\n",
       "      <td>ALL</td>\n",
       "      <td>11999</td>\n",
       "    </tr>\n",
       "    <tr>\n",
       "      <th>1</th>\n",
       "      <td>GP_PRAC_PAT_LIST</td>\n",
       "      <td>01NOV2019</td>\n",
       "      <td>GP</td>\n",
       "      <td>00C</td>\n",
       "      <td>E38000042</td>\n",
       "      <td>A83006</td>\n",
       "      <td>DL3 6HZ</td>\n",
       "      <td>ALL</td>\n",
       "      <td>ALL</td>\n",
       "      <td>8093</td>\n",
       "    </tr>\n",
       "    <tr>\n",
       "      <th>2</th>\n",
       "      <td>GP_PRAC_PAT_LIST</td>\n",
       "      <td>01NOV2019</td>\n",
       "      <td>GP</td>\n",
       "      <td>00C</td>\n",
       "      <td>E38000042</td>\n",
       "      <td>A83010</td>\n",
       "      <td>DL3 9JP</td>\n",
       "      <td>ALL</td>\n",
       "      <td>ALL</td>\n",
       "      <td>13749</td>\n",
       "    </tr>\n",
       "    <tr>\n",
       "      <th>3</th>\n",
       "      <td>GP_PRAC_PAT_LIST</td>\n",
       "      <td>01NOV2019</td>\n",
       "      <td>GP</td>\n",
       "      <td>00C</td>\n",
       "      <td>E38000042</td>\n",
       "      <td>A83013</td>\n",
       "      <td>DL1 4YL</td>\n",
       "      <td>ALL</td>\n",
       "      <td>ALL</td>\n",
       "      <td>11740</td>\n",
       "    </tr>\n",
       "    <tr>\n",
       "      <th>4</th>\n",
       "      <td>GP_PRAC_PAT_LIST</td>\n",
       "      <td>01NOV2019</td>\n",
       "      <td>GP</td>\n",
       "      <td>00C</td>\n",
       "      <td>E38000042</td>\n",
       "      <td>A83031</td>\n",
       "      <td>DL3 8SQ</td>\n",
       "      <td>ALL</td>\n",
       "      <td>ALL</td>\n",
       "      <td>10441</td>\n",
       "    </tr>\n",
       "  </tbody>\n",
       "</table>\n",
       "</div>"
      ],
      "text/plain": [
       "        PUBLICATION EXTRACT_DATE TYPE CCG_CODE ONS_CCG_CODE    CODE POSTCODE  \\\n",
       "0  GP_PRAC_PAT_LIST    01NOV2019   GP      00C    E38000042  A83005  DL1 3RT   \n",
       "1  GP_PRAC_PAT_LIST    01NOV2019   GP      00C    E38000042  A83006  DL3 6HZ   \n",
       "2  GP_PRAC_PAT_LIST    01NOV2019   GP      00C    E38000042  A83010  DL3 9JP   \n",
       "3  GP_PRAC_PAT_LIST    01NOV2019   GP      00C    E38000042  A83013  DL1 4YL   \n",
       "4  GP_PRAC_PAT_LIST    01NOV2019   GP      00C    E38000042  A83031  DL3 8SQ   \n",
       "\n",
       "   SEX  AGE  NUMBER_OF_PATIENTS  \n",
       "0  ALL  ALL               11999  \n",
       "1  ALL  ALL                8093  \n",
       "2  ALL  ALL               13749  \n",
       "3  ALL  ALL               11740  \n",
       "4  ALL  ALL               10441  "
      ]
     },
     "execution_count": 263,
     "metadata": {},
     "output_type": "execute_result"
    }
   ],
   "source": [
    "rename_unname(people)\n",
    "people.head()"
   ]
  },
  {
   "cell_type": "code",
   "execution_count": 264,
   "metadata": {},
   "outputs": [
    {
     "name": "stdout",
     "output_type": "stream",
     "text": [
      "['timepoint', 'E8...', 'Name', 'Address_1', 'Address_2', 'Address_3', 'Area', 'Postcode', 'National_grouping', 'High_level_health_geography', 'Date_open', 'Date_close', 'Status_code', 'Subtype', 'Commissioner', 'Setting_all_gp_reference', 'TYPE', 'CCG_CODE', 'ONS_CCG_CODE', 'SEX', 'AGE', 'NUMBER_OF_PATIENTS']\n",
      "--------------------\n",
      "(14388, 22)\n"
     ]
    }
   ],
   "source": [
    "final = pd.merge(final, people, how='outer', left_on=['E8...'], right_on=['CODE'])\n",
    "final.drop(['PUBLICATION', 'EXTRACT_DATE', 'CODE', 'POSTCODE'], axis=1, inplace=True)\n",
    "print(list(final.columns) )\n",
    "print('-'*20)\n",
    "print(final.shape)"
   ]
  },
  {
   "cell_type": "code",
   "execution_count": 265,
   "metadata": {},
   "outputs": [],
   "source": [
    "#final.head()"
   ]
  },
  {
   "cell_type": "markdown",
   "metadata": {},
   "source": [
    "### final & structure"
   ]
  },
  {
   "cell_type": "code",
   "execution_count": 266,
   "metadata": {},
   "outputs": [
    {
     "data": {
      "text/html": [
       "<div>\n",
       "<style scoped>\n",
       "    .dataframe tbody tr th:only-of-type {\n",
       "        vertical-align: middle;\n",
       "    }\n",
       "\n",
       "    .dataframe tbody tr th {\n",
       "        vertical-align: top;\n",
       "    }\n",
       "\n",
       "    .dataframe thead th {\n",
       "        text-align: right;\n",
       "    }\n",
       "</style>\n",
       "<table border=\"1\" class=\"dataframe\">\n",
       "  <thead>\n",
       "    <tr style=\"text-align: right;\">\n",
       "      <th></th>\n",
       "      <th>Organisation_code</th>\n",
       "      <th>CCG/PCT</th>\n",
       "      <th>Primary_care_organisation_type</th>\n",
       "      <th>Join_parent_date</th>\n",
       "      <th>Left_parent_date</th>\n",
       "      <th>Amended_record_indicator</th>\n",
       "    </tr>\n",
       "  </thead>\n",
       "  <tbody>\n",
       "    <tr>\n",
       "      <th>0</th>\n",
       "      <td>A81001</td>\n",
       "      <td>00K</td>\n",
       "      <td>W</td>\n",
       "      <td>20130401</td>\n",
       "      <td>NaN</td>\n",
       "      <td>0</td>\n",
       "    </tr>\n",
       "    <tr>\n",
       "      <th>1</th>\n",
       "      <td>A81001</td>\n",
       "      <td>4QP36</td>\n",
       "      <td>W</td>\n",
       "      <td>19990401</td>\n",
       "      <td>20010331.0</td>\n",
       "      <td>0</td>\n",
       "    </tr>\n",
       "    <tr>\n",
       "      <th>2</th>\n",
       "      <td>A81002</td>\n",
       "      <td>5E1</td>\n",
       "      <td>W</td>\n",
       "      <td>20010401</td>\n",
       "      <td>20130331.0</td>\n",
       "      <td>0</td>\n",
       "    </tr>\n",
       "    <tr>\n",
       "      <th>3</th>\n",
       "      <td>A81002</td>\n",
       "      <td>4QP36</td>\n",
       "      <td>W</td>\n",
       "      <td>19990401</td>\n",
       "      <td>20010331.0</td>\n",
       "      <td>0</td>\n",
       "    </tr>\n",
       "    <tr>\n",
       "      <th>4</th>\n",
       "      <td>A81002</td>\n",
       "      <td>00K</td>\n",
       "      <td>W</td>\n",
       "      <td>20130401</td>\n",
       "      <td>NaN</td>\n",
       "      <td>0</td>\n",
       "    </tr>\n",
       "  </tbody>\n",
       "</table>\n",
       "</div>"
      ],
      "text/plain": [
       "  Organisation_code CCG/PCT Primary_care_organisation_type  Join_parent_date  \\\n",
       "0            A81001     00K                              W          20130401   \n",
       "1            A81001   4QP36                              W          19990401   \n",
       "2            A81002     5E1                              W          20010401   \n",
       "3            A81002   4QP36                              W          19990401   \n",
       "4            A81002     00K                              W          20130401   \n",
       "\n",
       "   Left_parent_date  Amended_record_indicator  \n",
       "0               NaN                         0  \n",
       "1        20010331.0                         0  \n",
       "2        20130331.0                         0  \n",
       "3        20010331.0                         0  \n",
       "4               NaN                         0  "
      ]
     },
     "execution_count": 266,
     "metadata": {},
     "output_type": "execute_result"
    }
   ],
   "source": [
    "rename_unname(structure)\n",
    "structure.head()"
   ]
  },
  {
   "cell_type": "code",
   "execution_count": 267,
   "metadata": {},
   "outputs": [
    {
     "name": "stdout",
     "output_type": "stream",
     "text": [
      "['timepoint', 'E8...', 'Name', 'Address_1', 'Address_2', 'Address_3', 'Area', 'Postcode', 'National_grouping', 'High_level_health_geography', 'Date_open', 'Date_close', 'Status_code', 'Subtype', 'Commissioner', 'Setting_all_gp_reference', 'TYPE', 'CCG_CODE', 'ONS_CCG_CODE', 'SEX', 'AGE', 'NUMBER_OF_PATIENTS', 'Organisation_code', 'CCG/PCT', 'Primary_care_organisation_type', 'Join_parent_date', 'Left_parent_date', 'Amended_record_indicator']\n",
      "--------------------\n",
      "(52928, 28)\n"
     ]
    }
   ],
   "source": [
    "final = pd.merge(final, structure, how=\"outer\", left_on=[\"E8...\"], right_on=[\"Organisation_code\"])\n",
    "print(list(final.columns) )\n",
    "print('-'*20)\n",
    "print(final.shape)"
   ]
  },
  {
   "cell_type": "code",
   "execution_count": 268,
   "metadata": {},
   "outputs": [],
   "source": [
    "rename_x(final)\n",
    "drop_y(final)"
   ]
  },
  {
   "cell_type": "markdown",
   "metadata": {},
   "source": [
    "### final & toypres \n",
    "Going to need to scale this up for the prescription data when running it on the HPC"
   ]
  },
  {
   "cell_type": "code",
   "execution_count": 269,
   "metadata": {},
   "outputs": [],
   "source": [
    "#toypres.head()"
   ]
  },
  {
   "cell_type": "code",
   "execution_count": 270,
   "metadata": {},
   "outputs": [],
   "source": [
    "rename_unname(toypres)\n",
    "toypres.drop(['PCT'], axis=1, inplace=True)\n",
    "final = pd.merge(final, toypres, how=\"outer\", left_on=[\"E8...\"], right_on=[\"PRACTICE\"])"
   ]
  },
  {
   "cell_type": "code",
   "execution_count": 271,
   "metadata": {},
   "outputs": [],
   "source": [
    "#final.head(1)"
   ]
  },
  {
   "cell_type": "code",
   "execution_count": 272,
   "metadata": {},
   "outputs": [
    {
     "name": "stdout",
     "output_type": "stream",
     "text": [
      "['timepoint', 'E8...', 'Name', 'Address_1', 'Address_2', 'Address_3', 'Area', 'Postcode', 'National_grouping', 'High_level_health_geography', 'Date_open', 'Date_close', 'Status_code', 'Subtype', 'Commissioner', 'Setting_all_gp_reference', 'TYPE', 'CCG_CODE', 'ONS_CCG_CODE', 'SEX', 'AGE', 'NUMBER_OF_PATIENTS', 'Organisation_code', 'CCG/PCT', 'Primary_care_organisation_type', 'Join_parent_date', 'Left_parent_date', 'Amended_record_indicator', 'SHA', 'PRACTICE', 'BNF.CODE', 'BNF.NAME', 'ITEMS', 'NIC', 'ACT.COST', 'QUANTITY', 'PERIOD']\n",
      "--------------------\n",
      "(53236, 37)\n"
     ]
    }
   ],
   "source": [
    "print(list(final.columns) )\n",
    "print('-'*20)\n",
    "print(final.shape)"
   ]
  },
  {
   "cell_type": "markdown",
   "metadata": {},
   "source": [
    "### Looking at drug - seeing if can join in\n",
    "Not sure if this is necessary because already have the drug BNF codes"
   ]
  },
  {
   "cell_type": "code",
   "execution_count": null,
   "metadata": {},
   "outputs": [],
   "source": []
  },
  {
   "cell_type": "code",
   "execution_count": null,
   "metadata": {},
   "outputs": [],
   "source": []
  },
  {
   "cell_type": "markdown",
   "metadata": {},
   "source": [
    "# Saving the resulting csv"
   ]
  },
  {
   "cell_type": "code",
   "execution_count": 273,
   "metadata": {},
   "outputs": [],
   "source": [
    "import csv\n",
    "final.to_csv(\"Combined_TOY_NHS_data.csv\")"
   ]
  },
  {
   "cell_type": "code",
   "execution_count": null,
   "metadata": {},
   "outputs": [],
   "source": []
  }
 ],
 "metadata": {
  "kernelspec": {
   "display_name": "Python 3",
   "language": "python",
   "name": "python3"
  },
  "language_info": {
   "codemirror_mode": {
    "name": "ipython",
    "version": 3
   },
   "file_extension": ".py",
   "mimetype": "text/x-python",
   "name": "python",
   "nbconvert_exporter": "python",
   "pygments_lexer": "ipython3",
   "version": "3.7.3"
  }
 },
 "nbformat": 4,
 "nbformat_minor": 2
}
