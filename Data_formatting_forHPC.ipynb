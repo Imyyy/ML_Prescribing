{
 "cells": [
  {
   "cell_type": "markdown",
   "metadata": {},
   "source": [
    "# Initial look at the toy dataset\n",
    "\n",
    "### Aims:   \n",
    "    Try and cut down the toy dataset to just the rows that are being used   \n",
    "    Get categorical variables into a format that can be used.  "
   ]
  },
  {
   "cell_type": "code",
   "execution_count": 50,
   "metadata": {},
   "outputs": [],
   "source": [
    "import seaborn as sns\n",
    "import matplotlib as plt\n",
    "import pandas as pd"
   ]
  },
  {
   "cell_type": "code",
   "execution_count": 51,
   "metadata": {},
   "outputs": [],
   "source": [
    "toy = pd.read_csv('Combined_TOY_NHS_data.csv')\n",
    "toy = pd.DataFrame(toy) # Turn toy into a pandas data frame"
   ]
  },
  {
   "cell_type": "code",
   "execution_count": 52,
   "metadata": {},
   "outputs": [
    {
     "name": "stdout",
     "output_type": "stream",
     "text": [
      "['Unnamed: 0', 'timepoint', 'E8...', 'Name', 'Address_1', 'Address_2', 'Address_3', 'Area', 'Postcode', 'National_grouping', 'High_level_health_geography', 'Date_open', 'Date_close', 'Status_code', 'Subtype', 'Commissioner', 'Setting_all_gp_reference', 'TYPE', 'CCG_CODE', 'ONS_CCG_CODE', 'SEX', 'AGE', 'NUMBER_OF_PATIENTS', 'Organisation_code', 'CCG/PCT', 'Primary_care_organisation_type', 'Join_parent_date', 'Left_parent_date', 'Amended_record_indicator', 'SHA', 'PRACTICE', 'BNF.CODE', 'BNF.NAME', 'ITEMS', 'NIC', 'ACT.COST', 'QUANTITY', 'PERIOD']\n",
      "--------------------\n",
      "(53236, 38)\n"
     ]
    }
   ],
   "source": [
    "print(list(toy.columns)) # Print a list of all the columns\n",
    "print('-'*20)\n",
    "print(toy.shape) # Print the shae of the dataset"
   ]
  },
  {
   "cell_type": "code",
   "execution_count": 53,
   "metadata": {},
   "outputs": [
    {
     "name": "stdout",
     "output_type": "stream",
     "text": [
      "['timepoint', 'e8...', 'name', 'address_1', 'address_2', 'address_3', 'area', 'postcode', 'national_grouping', 'high_level_health_geography', 'date_open', 'date_close', 'status_code', 'subtype', 'commissioner', 'setting_all_gp_reference', 'type', 'ccg_code', 'ons_ccg_code', 'sex', 'age', 'number_of_patients', 'organisation_code', 'ccg/pct', 'primary_care_organisation_type', 'join_parent_date', 'left_parent_date', 'amended_record_indicator', 'sha', 'practice', 'bnf.code', 'bnf.name', 'items', 'nic', 'act.cost', 'quantity', 'period']\n"
     ]
    }
   ],
   "source": [
    "def rename_unname(df):\n",
    "    for col in df:\n",
    "        if col.startswith('Unnamed'):\n",
    "            df.drop(col,axis=1, inplace=True)\n",
    "rename_unname(toy) # Drop the extra column labelled unnamed\n",
    "toy.columns = [x.lower() for x in toy.columns] # Turn all the column titles into  lower case\n",
    "print(list(toy.columns))"
   ]
  },
  {
   "cell_type": "markdown",
   "metadata": {},
   "source": [
    "### Filtering the dataset to remove columns that have more than 2 NA's"
   ]
  },
  {
   "cell_type": "code",
   "execution_count": 54,
   "metadata": {},
   "outputs": [
    {
     "name": "stdout",
     "output_type": "stream",
     "text": [
      "       timepoint     date_open  date_close  setting_all_gp_reference  \\\n",
      "count     3652.0  3.652000e+03         0.0                    3652.0   \n",
      "mean    201911.0  1.976598e+07         NaN                       4.0   \n",
      "std          0.0  7.125229e+04         NaN                       0.0   \n",
      "min     201911.0  1.974040e+07         NaN                       4.0   \n",
      "25%     201911.0  1.974040e+07         NaN                       4.0   \n",
      "50%     201911.0  1.974040e+07         NaN                       4.0   \n",
      "75%     201911.0  1.974040e+07         NaN                       4.0   \n",
      "max     201911.0  2.017090e+07         NaN                       4.0   \n",
      "\n",
      "       number_of_patients  join_parent_date  left_parent_date  \\\n",
      "count         3652.000000      3.652000e+03      2.869000e+03   \n",
      "mean         10502.274096      2.004848e+07      2.007300e+07   \n",
      "std           6359.228447      5.788054e+04      5.579184e+04   \n",
      "min              7.000000      1.999040e+07      2.000033e+07   \n",
      "25%           6376.000000      1.999040e+07      2.002033e+07   \n",
      "50%           9494.000000      2.002040e+07      2.006093e+07   \n",
      "75%          12846.250000      2.013040e+07      2.013033e+07   \n",
      "max          59053.000000      2.019040e+07      2.019033e+07   \n",
      "\n",
      "       amended_record_indicator        items          nic     act.cost  \\\n",
      "count                    3652.0  3652.000000  3652.000000  3652.000000   \n",
      "mean                        0.0     8.682913    79.042675    70.966325   \n",
      "std                         0.0    22.322042   193.512053   163.321892   \n",
      "min                         0.0     1.000000     0.270000     0.250000   \n",
      "25%                         0.0     1.000000    10.100000     9.610000   \n",
      "50%                         0.0     2.000000    25.190000    24.300000   \n",
      "75%                         0.0     6.000000    71.520000    67.110000   \n",
      "max                         0.0   319.000000  2616.200000  2432.480000   \n",
      "\n",
      "           quantity    period  \n",
      "count   3652.000000    3652.0  \n",
      "mean     690.503012  201911.0  \n",
      "std     3698.586030       0.0  \n",
      "min        1.000000  201911.0  \n",
      "25%       28.000000  201911.0  \n",
      "50%       84.000000  201911.0  \n",
      "75%      336.000000  201911.0  \n",
      "max    84000.000000  201911.0  \n"
     ]
    }
   ],
   "source": [
    "toycomp = toy.dropna(thresh = toy.shape[1]-2) \n",
    "print(toycomp.describe())"
   ]
  },
  {
   "cell_type": "markdown",
   "metadata": {},
   "source": [
    "# Difference in cost\n",
    "Try and work out the difference in cost per item, try and classify by it or high or low to give a binary variable"
   ]
  },
  {
   "cell_type": "code",
   "execution_count": 55,
   "metadata": {},
   "outputs": [
    {
     "data": {
      "text/html": [
       "<div>\n",
       "<style scoped>\n",
       "    .dataframe tbody tr th:only-of-type {\n",
       "        vertical-align: middle;\n",
       "    }\n",
       "\n",
       "    .dataframe tbody tr th {\n",
       "        vertical-align: top;\n",
       "    }\n",
       "\n",
       "    .dataframe thead th {\n",
       "        text-align: right;\n",
       "    }\n",
       "</style>\n",
       "<table border=\"1\" class=\"dataframe\">\n",
       "  <thead>\n",
       "    <tr style=\"text-align: right;\">\n",
       "      <th></th>\n",
       "      <th>timepoint</th>\n",
       "      <th>e8...</th>\n",
       "      <th>name</th>\n",
       "      <th>address_1</th>\n",
       "      <th>address_2</th>\n",
       "      <th>address_3</th>\n",
       "      <th>area</th>\n",
       "      <th>postcode</th>\n",
       "      <th>national_grouping</th>\n",
       "      <th>high_level_health_geography</th>\n",
       "      <th>...</th>\n",
       "      <th>amended_record_indicator</th>\n",
       "      <th>sha</th>\n",
       "      <th>practice</th>\n",
       "      <th>bnf.code</th>\n",
       "      <th>bnf.name</th>\n",
       "      <th>items</th>\n",
       "      <th>nic</th>\n",
       "      <th>act.cost</th>\n",
       "      <th>quantity</th>\n",
       "      <th>period</th>\n",
       "    </tr>\n",
       "  </thead>\n",
       "  <tbody>\n",
       "    <tr>\n",
       "      <th>16</th>\n",
       "      <td>201911.0</td>\n",
       "      <td>E84020</td>\n",
       "      <td>JAI MEDICAL CENTRE (BRENT)</td>\n",
       "      <td>82 STAG LANE</td>\n",
       "      <td>EDGWARE</td>\n",
       "      <td>MIDDLESEX</td>\n",
       "      <td>NaN</td>\n",
       "      <td>HA8 5LP</td>\n",
       "      <td>Y56</td>\n",
       "      <td>Q71</td>\n",
       "      <td>...</td>\n",
       "      <td>0.0</td>\n",
       "      <td>Q61</td>\n",
       "      <td>E84020</td>\n",
       "      <td>0403010V0AAARAR</td>\n",
       "      <td>Ganfort_Eye Dps 300mcg/5mg</td>\n",
       "      <td>1.0</td>\n",
       "      <td>5.02</td>\n",
       "      <td>419.13</td>\n",
       "      <td>476.0</td>\n",
       "      <td>201911.0</td>\n",
       "    </tr>\n",
       "    <tr>\n",
       "      <th>18</th>\n",
       "      <td>201911.0</td>\n",
       "      <td>E84020</td>\n",
       "      <td>JAI MEDICAL CENTRE (BRENT)</td>\n",
       "      <td>82 STAG LANE</td>\n",
       "      <td>EDGWARE</td>\n",
       "      <td>MIDDLESEX</td>\n",
       "      <td>NaN</td>\n",
       "      <td>HA8 5LP</td>\n",
       "      <td>Y56</td>\n",
       "      <td>Q71</td>\n",
       "      <td>...</td>\n",
       "      <td>0.0</td>\n",
       "      <td>Q61</td>\n",
       "      <td>E84020</td>\n",
       "      <td>0403010V0AAARAR</td>\n",
       "      <td>Ganfort_Eye Dps 300mcg/5mg</td>\n",
       "      <td>1.0</td>\n",
       "      <td>5.02</td>\n",
       "      <td>419.13</td>\n",
       "      <td>476.0</td>\n",
       "      <td>201911.0</td>\n",
       "    </tr>\n",
       "    <tr>\n",
       "      <th>97</th>\n",
       "      <td>201911.0</td>\n",
       "      <td>E87701</td>\n",
       "      <td>THE ABINGDON HEALTH CENTRE</td>\n",
       "      <td>THE ABINGDON HEALTH CTRE</td>\n",
       "      <td>88-92 EARLS COURT ROAD</td>\n",
       "      <td>KENSINGTON</td>\n",
       "      <td>LONDON</td>\n",
       "      <td>W8 6EG</td>\n",
       "      <td>Y56</td>\n",
       "      <td>Q71</td>\n",
       "      <td>...</td>\n",
       "      <td>0.0</td>\n",
       "      <td>Q52</td>\n",
       "      <td>E87701</td>\n",
       "      <td>090402000BBRRA0</td>\n",
       "      <td>Fludroxycortide_Tape 7.5cm x 20cm</td>\n",
       "      <td>21.0</td>\n",
       "      <td>62.25</td>\n",
       "      <td>16.29</td>\n",
       "      <td>12.0</td>\n",
       "      <td>201911.0</td>\n",
       "    </tr>\n",
       "    <tr>\n",
       "      <th>98</th>\n",
       "      <td>201911.0</td>\n",
       "      <td>E87701</td>\n",
       "      <td>THE ABINGDON HEALTH CENTRE</td>\n",
       "      <td>THE ABINGDON HEALTH CTRE</td>\n",
       "      <td>88-92 EARLS COURT ROAD</td>\n",
       "      <td>KENSINGTON</td>\n",
       "      <td>LONDON</td>\n",
       "      <td>W8 6EG</td>\n",
       "      <td>Y56</td>\n",
       "      <td>Q71</td>\n",
       "      <td>...</td>\n",
       "      <td>0.0</td>\n",
       "      <td>Q52</td>\n",
       "      <td>E87701</td>\n",
       "      <td>090402000BBRRA0</td>\n",
       "      <td>Fludroxycortide_Tape 7.5cm x 20cm</td>\n",
       "      <td>21.0</td>\n",
       "      <td>62.25</td>\n",
       "      <td>16.29</td>\n",
       "      <td>12.0</td>\n",
       "      <td>201911.0</td>\n",
       "    </tr>\n",
       "    <tr>\n",
       "      <th>99</th>\n",
       "      <td>201911.0</td>\n",
       "      <td>E87701</td>\n",
       "      <td>THE ABINGDON HEALTH CENTRE</td>\n",
       "      <td>THE ABINGDON HEALTH CTRE</td>\n",
       "      <td>88-92 EARLS COURT ROAD</td>\n",
       "      <td>KENSINGTON</td>\n",
       "      <td>LONDON</td>\n",
       "      <td>W8 6EG</td>\n",
       "      <td>Y56</td>\n",
       "      <td>Q71</td>\n",
       "      <td>...</td>\n",
       "      <td>0.0</td>\n",
       "      <td>Q52</td>\n",
       "      <td>E87701</td>\n",
       "      <td>090402000BBRRA0</td>\n",
       "      <td>Fludroxycortide_Tape 7.5cm x 20cm</td>\n",
       "      <td>21.0</td>\n",
       "      <td>62.25</td>\n",
       "      <td>16.29</td>\n",
       "      <td>12.0</td>\n",
       "      <td>201911.0</td>\n",
       "    </tr>\n",
       "  </tbody>\n",
       "</table>\n",
       "<p>5 rows × 37 columns</p>\n",
       "</div>"
      ],
      "text/plain": [
       "    timepoint   e8...                        name                 address_1  \\\n",
       "16   201911.0  E84020  JAI MEDICAL CENTRE (BRENT)              82 STAG LANE   \n",
       "18   201911.0  E84020  JAI MEDICAL CENTRE (BRENT)              82 STAG LANE   \n",
       "97   201911.0  E87701  THE ABINGDON HEALTH CENTRE  THE ABINGDON HEALTH CTRE   \n",
       "98   201911.0  E87701  THE ABINGDON HEALTH CENTRE  THE ABINGDON HEALTH CTRE   \n",
       "99   201911.0  E87701  THE ABINGDON HEALTH CENTRE  THE ABINGDON HEALTH CTRE   \n",
       "\n",
       "                 address_2   address_3    area postcode national_grouping  \\\n",
       "16                 EDGWARE   MIDDLESEX     NaN  HA8 5LP               Y56   \n",
       "18                 EDGWARE   MIDDLESEX     NaN  HA8 5LP               Y56   \n",
       "97  88-92 EARLS COURT ROAD  KENSINGTON  LONDON   W8 6EG               Y56   \n",
       "98  88-92 EARLS COURT ROAD  KENSINGTON  LONDON   W8 6EG               Y56   \n",
       "99  88-92 EARLS COURT ROAD  KENSINGTON  LONDON   W8 6EG               Y56   \n",
       "\n",
       "   high_level_health_geography  ...  amended_record_indicator  sha practice  \\\n",
       "16                         Q71  ...                       0.0  Q61   E84020   \n",
       "18                         Q71  ...                       0.0  Q61   E84020   \n",
       "97                         Q71  ...                       0.0  Q52   E87701   \n",
       "98                         Q71  ...                       0.0  Q52   E87701   \n",
       "99                         Q71  ...                       0.0  Q52   E87701   \n",
       "\n",
       "           bnf.code                           bnf.name  items    nic act.cost  \\\n",
       "16  0403010V0AAARAR         Ganfort_Eye Dps 300mcg/5mg    1.0   5.02   419.13   \n",
       "18  0403010V0AAARAR         Ganfort_Eye Dps 300mcg/5mg    1.0   5.02   419.13   \n",
       "97  090402000BBRRA0  Fludroxycortide_Tape 7.5cm x 20cm   21.0  62.25    16.29   \n",
       "98  090402000BBRRA0  Fludroxycortide_Tape 7.5cm x 20cm   21.0  62.25    16.29   \n",
       "99  090402000BBRRA0  Fludroxycortide_Tape 7.5cm x 20cm   21.0  62.25    16.29   \n",
       "\n",
       "   quantity    period  \n",
       "16    476.0  201911.0  \n",
       "18    476.0  201911.0  \n",
       "97     12.0  201911.0  \n",
       "98     12.0  201911.0  \n",
       "99     12.0  201911.0  \n",
       "\n",
       "[5 rows x 37 columns]"
      ]
     },
     "execution_count": 55,
     "metadata": {},
     "output_type": "execute_result"
    }
   ],
   "source": [
    "toycomp.head()\n"
   ]
  },
  {
   "cell_type": "code",
   "execution_count": 56,
   "metadata": {},
   "outputs": [],
   "source": [
    "import csv\n",
    "toycomp.to_csv(\"Combined_TOYCOMP_NHS_data.csv\")"
   ]
  },
  {
   "cell_type": "code",
   "execution_count": null,
   "metadata": {},
   "outputs": [],
   "source": []
  },
  {
   "cell_type": "code",
   "execution_count": null,
   "metadata": {},
   "outputs": [],
   "source": []
  },
  {
   "cell_type": "code",
   "execution_count": null,
   "metadata": {},
   "outputs": [],
   "source": []
  }
 ],
 "metadata": {
  "kernelspec": {
   "display_name": "Python 3",
   "language": "python",
   "name": "python3"
  },
  "language_info": {
   "codemirror_mode": {
    "name": "ipython",
    "version": 3
   },
   "file_extension": ".py",
   "mimetype": "text/x-python",
   "name": "python",
   "nbconvert_exporter": "python",
   "pygments_lexer": "ipython3",
   "version": "3.7.3"
  }
 },
 "nbformat": 4,
 "nbformat_minor": 4
}
