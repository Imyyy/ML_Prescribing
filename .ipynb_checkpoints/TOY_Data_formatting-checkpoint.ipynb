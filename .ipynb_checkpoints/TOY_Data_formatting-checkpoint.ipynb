{
 "cells": [
  {
   "cell_type": "markdown",
   "metadata": {},
   "source": [
    "# Initial look at the toy dataset\n",
    "\n",
    "### Aims:   \n",
    "    Try and cut down the toy dataset to just the rows that are being used   \n",
    "    Get categorical variables into a format that can be used.  "
   ]
  },
  {
   "cell_type": "code",
   "execution_count": 2,
   "metadata": {},
   "outputs": [],
   "source": [
    "import seaborn as sns\n",
    "import matplotlib as plt\n",
    "import pandas as pd"
   ]
  },
  {
   "cell_type": "code",
   "execution_count": 7,
   "metadata": {},
   "outputs": [],
   "source": [
    "toy = pd.read_csv('Combined_TOY_NHS_data.csv')\n",
    "toy = pd.DataFrame(toy)"
   ]
  },
  {
   "cell_type": "code",
   "execution_count": 12,
   "metadata": {},
   "outputs": [
    {
     "name": "stdout",
     "output_type": "stream",
     "text": [
      "['Unnamed: 0', 'timepoint', 'E8...', 'Name', 'Address_1', 'Address_2', 'Address_3', 'Area', 'Postcode', 'National_grouping', 'High_level_health_geography', 'Date_open', 'Date_close', 'Status_code', 'Subtype', 'Commissioner', 'Setting_all_gp_reference', 'TYPE', 'CCG_CODE', 'ONS_CCG_CODE', 'SEX', 'AGE', 'NUMBER_OF_PATIENTS', 'Organisation_code', 'CCG/PCT', 'Primary_care_organisation_type', 'Join_parent_date', 'Left_parent_date', 'Amended_record_indicator', 'SHA', 'PRACTICE', 'BNF.CODE', 'BNF.NAME', 'ITEMS', 'NIC', 'ACT.COST', 'QUANTITY', 'PERIOD']\n",
      "--------------------\n",
      "(53236, 38)\n"
     ]
    }
   ],
   "source": [
    "print(list(toy.columns))\n",
    "print('-'*20)\n",
    "print(toy.shape)"
   ]
  },
  {
   "cell_type": "code",
   "execution_count": 19,
   "metadata": {},
   "outputs": [],
   "source": [
    "def rename_unname(df):\n",
    "    for col in df:\n",
    "        if col.startswith('Unnamed'):\n",
    "            df.drop(col,axis=1, inplace=True)\n",
    "rename_unname(toy)\n",
    "toy.columns = [x.lower() for x in toy.columns]"
   ]
  },
  {
   "cell_type": "code",
   "execution_count": 40,
   "metadata": {},
   "outputs": [
    {
     "name": "stdout",
     "output_type": "stream",
     "text": [
      "       timepoint     date_open  date_close  setting_all_gp_reference  \\\n",
      "count     3652.0  3.652000e+03         0.0                    3652.0   \n",
      "mean    201911.0  1.976598e+07         NaN                       4.0   \n",
      "std          0.0  7.125229e+04         NaN                       0.0   \n",
      "min     201911.0  1.974040e+07         NaN                       4.0   \n",
      "25%     201911.0  1.974040e+07         NaN                       4.0   \n",
      "50%     201911.0  1.974040e+07         NaN                       4.0   \n",
      "75%     201911.0  1.974040e+07         NaN                       4.0   \n",
      "max     201911.0  2.017090e+07         NaN                       4.0   \n",
      "\n",
      "       number_of_patients  join_parent_date  left_parent_date  \\\n",
      "count         3652.000000      3.652000e+03      2.869000e+03   \n",
      "mean         10502.274096      2.004848e+07      2.007300e+07   \n",
      "std           6359.228447      5.788054e+04      5.579184e+04   \n",
      "min              7.000000      1.999040e+07      2.000033e+07   \n",
      "25%           6376.000000      1.999040e+07      2.002033e+07   \n",
      "50%           9494.000000      2.002040e+07      2.006093e+07   \n",
      "75%          12846.250000      2.013040e+07      2.013033e+07   \n",
      "max          59053.000000      2.019040e+07      2.019033e+07   \n",
      "\n",
      "       amended_record_indicator        items          nic     act.cost  \\\n",
      "count                    3652.0  3652.000000  3652.000000  3652.000000   \n",
      "mean                        0.0     8.682913    79.042675    70.966325   \n",
      "std                         0.0    22.322042   193.512053   163.321892   \n",
      "min                         0.0     1.000000     0.270000     0.250000   \n",
      "25%                         0.0     1.000000    10.100000     9.610000   \n",
      "50%                         0.0     2.000000    25.190000    24.300000   \n",
      "75%                         0.0     6.000000    71.520000    67.110000   \n",
      "max                         0.0   319.000000  2616.200000  2432.480000   \n",
      "\n",
      "           quantity    period  \n",
      "count   3652.000000    3652.0  \n",
      "mean     690.503012  201911.0  \n",
      "std     3698.586030       0.0  \n",
      "min        1.000000  201911.0  \n",
      "25%       28.000000  201911.0  \n",
      "50%       84.000000  201911.0  \n",
      "75%      336.000000  201911.0  \n",
      "max    84000.000000  201911.0  \n"
     ]
    }
   ],
   "source": [
    "# Filtering the dataset to remove columns that have more than 2 NA's\n",
    "toycomp = toy.dropna(thresh = toy.shape[1]-2)\n",
    "toycomp.head()\n",
    "print(toycomp.describe())"
   ]
  },
  {
   "cell_type": "markdown",
   "metadata": {},
   "source": [
    "# Difference in cost\n",
    "Try and work out the difference in cost per item, try and classify by it or high or low to give a binary variable"
   ]
  },
  {
   "cell_type": "code",
   "execution_count": null,
   "metadata": {},
   "outputs": [],
   "source": []
  },
  {
   "cell_type": "code",
   "execution_count": null,
   "metadata": {},
   "outputs": [],
   "source": []
  },
  {
   "cell_type": "code",
   "execution_count": null,
   "metadata": {},
   "outputs": [],
   "source": []
  },
  {
   "cell_type": "code",
   "execution_count": null,
   "metadata": {},
   "outputs": [],
   "source": []
  },
  {
   "cell_type": "code",
   "execution_count": null,
   "metadata": {},
   "outputs": [],
   "source": []
  }
 ],
 "metadata": {
  "kernelspec": {
   "display_name": "Python 3",
   "language": "python",
   "name": "python3"
  },
  "language_info": {
   "codemirror_mode": {
    "name": "ipython",
    "version": 3
   },
   "file_extension": ".py",
   "mimetype": "text/x-python",
   "name": "python",
   "nbconvert_exporter": "python",
   "pygments_lexer": "ipython3",
   "version": "3.7.3"
  }
 },
 "nbformat": 4,
 "nbformat_minor": 4
}
