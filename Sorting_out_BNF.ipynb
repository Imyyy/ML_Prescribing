{
 "cells": [
  {
   "cell_type": "markdown",
   "metadata": {},
   "source": [
    "# Sorting out BNF\n",
    "\n",
    "Using knowledge from datalab and the spreadsheet from the NHS on converting the BNF codes to create a simplified dataset that allows for basic analysis of BNF data"
   ]
  },
  {
   "cell_type": "code",
   "execution_count": 209,
   "metadata": {},
   "outputs": [],
   "source": [
    "import os\n",
    "os.chdir('../Data') # Set the working directory to the data folder"
   ]
  },
  {
   "cell_type": "code",
   "execution_count": 210,
   "metadata": {},
   "outputs": [],
   "source": [
    "import pandas as pd"
   ]
  },
  {
   "cell_type": "code",
   "execution_count": 211,
   "metadata": {},
   "outputs": [],
   "source": [
    "# Import the two necessary datasets\n",
    "toycomp = pd.read_csv('Combined_TOYCOMP_NHS_data.csv')\n",
    "bnf = pd.read_csv('20200201_1580570906919_BNF_Code_Information.csv')\n",
    "bnf = pd.DataFrame(bnf) # Convert bnf to dataframe\n",
    "def rename_unname(df):\n",
    "    for col in df:\n",
    "        if col.startswith('Unnamed'):\n",
    "            df.drop(col,axis=1, inplace=True)\n",
    "rename_unname(toycomp) # Remove the unnamed column that appears in the dataset"
   ]
  },
  {
   "cell_type": "markdown",
   "metadata": {},
   "source": [
    "Aim: Want to separate out into having a dictionary one, for each of the two columns.\n",
    "Need to check the spacing works, as in this one, the first column only has one reference number. Thinking only want to go up to the 6th column as at this point going too specific on the disease. there is "
   ]
  },
  {
   "cell_type": "code",
   "execution_count": 212,
   "metadata": {},
   "outputs": [],
   "source": [
    "# Sorting this out on a toy practive dataset - then apply to the full one in a minute\n",
    "toycomp['bnf.chapter'] = toycomp['bnf.code'].str[:2] # Select the first two rows of the dataset = chapter\n",
    "toycomp['bnf.section'] = toycomp['bnf.code'].str[2:4]# Select the 3 + 4 rows of the dataset = BNF section\n",
    "toycomp['bnf.paragraph'] = toycomp['bnf.code'].str[4:6] # Select the 5 + 6 rows of the dataset = BNF paragraph\n",
    "toycomp['bnf.chemical'] = toycomp['bnf.code'].str[7:9]\n",
    "toycomp['bnf.letters'] = toycomp['bnf.code'].str[9:15]"
   ]
  },
  {
   "cell_type": "code",
   "execution_count": 213,
   "metadata": {},
   "outputs": [
    {
     "name": "stdout",
     "output_type": "stream",
     "text": [
      "['timepoint', 'e8...', 'name', 'address_1', 'address_2', 'address_3', 'area', 'postcode', 'national_grouping', 'high_level_health_geography', 'date_open', 'date_close', 'status_code', 'subtype', 'commissioner', 'setting_all_gp_reference', 'type', 'ccg_code', 'ons_ccg_code', 'sex', 'age', 'number_of_patients', 'organisation_code', 'ccg/pct', 'primary_care_organisation_type', 'join_parent_date', 'left_parent_date', 'amended_record_indicator', 'sha', 'practice', 'bnf.code', 'bnf.name', 'items', 'nic', 'act.cost', 'quantity', 'period', 'bnf.chapter', 'bnf.section', 'bnf.paragraph', 'bnf.chemical', 'bnf.letters']\n"
     ]
    }
   ],
   "source": [
    "print(list(toycomp.columns))"
   ]
  },
  {
   "cell_type": "markdown",
   "metadata": {},
   "source": [
    "# BNF\n",
    "### Formatting dataframe to compare bnf code to final dataset\n",
    "\n",
    "For strings in bnf where chapter code length = 1, add a 0 on to the beginning.\n",
    "Add it into a new column to try it out, then apply it to the original column in the data set.   \n",
    "Reference on this function: https://docs.python.org/3/library/stdtypes.html#str.ljust"
   ]
  },
  {
   "cell_type": "code",
   "execution_count": 214,
   "metadata": {},
   "outputs": [],
   "source": [
    "bnf.rename(columns={'BNF Chapter Code':'bnf-chaptercode', 'BNF Section Code':'bnf-sectioncode', \n",
    "                    'BNF Paragraph Code':'bnf-paragraph'}, inplace=True)\n",
    "to_drop = ['BNF Subparagraph Code']\n",
    "bnf.drop(to_drop, axis=1, inplace=True)"
   ]
  },
  {
   "cell_type": "code",
   "execution_count": 215,
   "metadata": {},
   "outputs": [],
   "source": [
    "bnf['bnf-chaptercode'] = bnf['bnf-chaptercode'].astype(str).str.zfill(2) # Make chapter code two long to compare\n",
    "bnf['bnf-sectioncode'] = bnf['bnf-sectioncode'].astype(str).str[1:3] \n",
    "bnf['bnf-paragraph'] = bnf['bnf-paragraph'].astype(str).str[3:5] "
   ]
  },
  {
   "cell_type": "markdown",
   "metadata": {},
   "source": [
    "# Export final bnf dataframe"
   ]
  },
  {
   "cell_type": "code",
   "execution_count": 216,
   "metadata": {},
   "outputs": [],
   "source": [
    "import csv\n",
    "bnf_chapter_dictionary = bnf[['BNF Chapter', 'bnf-chaptercode', 'BNF Product Code']]\n",
    "bnf_chapter_dictionary.to_csv(\"bnf_chapter_dictionary\")\n",
    "bnf_section_dictionary = bnf[['BNF Section', 'bnf-sectioncode', 'BNF Product Code']]\n",
    "bnf_section_dictionary.to_csv(\"bnf_bnf_section_dictionary\")\n",
    "bnf_paragraph_dictionary = bnf[['BNF Paragraph', 'bnf-paragraph', 'BNF Product Code']]\n",
    "bnf_paragraph_dictionary.to_csv(\"bnf_paragraph_dictionary\")"
   ]
  },
  {
   "cell_type": "code",
   "execution_count": 218,
   "metadata": {},
   "outputs": [],
   "source": [
    "toycomp.to_csv(\"Combined_TOYCOMP_BNF_NHS_data.csv\")"
   ]
  },
  {
   "cell_type": "code",
   "execution_count": null,
   "metadata": {},
   "outputs": [],
   "source": []
  }
 ],
 "metadata": {
  "kernelspec": {
   "display_name": "Python 3",
   "language": "python",
   "name": "python3"
  },
  "language_info": {
   "codemirror_mode": {
    "name": "ipython",
    "version": 3
   },
   "file_extension": ".py",
   "mimetype": "text/x-python",
   "name": "python",
   "nbconvert_exporter": "python",
   "pygments_lexer": "ipython3",
   "version": "3.7.3"
  }
 },
 "nbformat": 4,
 "nbformat_minor": 4
}
