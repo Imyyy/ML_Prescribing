{
 "cells": [
  {
   "cell_type": "markdown",
   "metadata": {},
   "source": [
    "# Sorting out BNF\n",
    "\n",
    "Using knowledge from datalab and the spreadsheet from the NHS on converting the BNF codes to create a simplified dataset that allows for basic analysis of BNF data"
   ]
  },
  {
   "cell_type": "code",
   "execution_count": 20,
   "metadata": {},
   "outputs": [],
   "source": [
    "import os\n",
    "os.chdir('../Data') # Set the working directory to the data folder"
   ]
  },
  {
   "cell_type": "code",
   "execution_count": 21,
   "metadata": {},
   "outputs": [],
   "source": [
    "import pandas as pd"
   ]
  },
  {
   "cell_type": "code",
   "execution_count": 24,
   "metadata": {},
   "outputs": [],
   "source": [
    "# Import the two necessary datasets\n",
    "toycomp = pd.read_csv('Combined_TOYCOMP_NHS_data.csv')\n",
    "bnf = pd.read_csv('20200201_1580570906919_BNF_Code_Information.csv')\n",
    "bnf = pd.DataFrame(bnf)\n",
    "def rename_unname(df):\n",
    "    for col in df:\n",
    "        if col.startswith('Unnamed'):\n",
    "            df.drop(col,axis=1, inplace=True)\n",
    "rename_unname(toycomp)"
   ]
  },
  {
   "cell_type": "markdown",
   "metadata": {},
   "source": [
    "Aim: Want to separate out into having a dictionary one, for each of the two columns.\n",
    "Need to check the spacing works, as in this one, the first column only has one reference number. Thinking only want to go up to the 6th column as at this point going too specific on the disease. there is "
   ]
  },
  {
   "cell_type": "code",
   "execution_count": 31,
   "metadata": {},
   "outputs": [
    {
     "data": {
      "text/html": [
       "<div>\n",
       "<style scoped>\n",
       "    .dataframe tbody tr th:only-of-type {\n",
       "        vertical-align: middle;\n",
       "    }\n",
       "\n",
       "    .dataframe tbody tr th {\n",
       "        vertical-align: top;\n",
       "    }\n",
       "\n",
       "    .dataframe thead th {\n",
       "        text-align: right;\n",
       "    }\n",
       "</style>\n",
       "<table border=\"1\" class=\"dataframe\">\n",
       "  <thead>\n",
       "    <tr style=\"text-align: right;\">\n",
       "      <th></th>\n",
       "      <th>bnf.code</th>\n",
       "    </tr>\n",
       "  </thead>\n",
       "  <tbody>\n",
       "    <tr>\n",
       "      <th>0</th>\n",
       "      <td>0403010V0AAARAR</td>\n",
       "    </tr>\n",
       "    <tr>\n",
       "      <th>1</th>\n",
       "      <td>0403010V0AAARAR</td>\n",
       "    </tr>\n",
       "    <tr>\n",
       "      <th>2</th>\n",
       "      <td>090402000BBRRA0</td>\n",
       "    </tr>\n",
       "  </tbody>\n",
       "</table>\n",
       "</div>"
      ],
      "text/plain": [
       "          bnf.code\n",
       "0  0403010V0AAARAR\n",
       "1  0403010V0AAARAR\n",
       "2  090402000BBRRA0"
      ]
     },
     "execution_count": 31,
     "metadata": {},
     "output_type": "execute_result"
    }
   ],
   "source": [
    "toycompbnf = toycomp['bnf.code']\n",
    "toycompbnf = pd.DataFrame(toycompbnf) # Needs to be in a dataframe for later pandas alterations\n",
    "toycompbnf.head(3)"
   ]
  },
  {
   "cell_type": "code",
   "execution_count": 42,
   "metadata": {},
   "outputs": [
    {
     "data": {
      "text/html": [
       "<div>\n",
       "<style scoped>\n",
       "    .dataframe tbody tr th:only-of-type {\n",
       "        vertical-align: middle;\n",
       "    }\n",
       "\n",
       "    .dataframe tbody tr th {\n",
       "        vertical-align: top;\n",
       "    }\n",
       "\n",
       "    .dataframe thead th {\n",
       "        text-align: right;\n",
       "    }\n",
       "</style>\n",
       "<table border=\"1\" class=\"dataframe\">\n",
       "  <thead>\n",
       "    <tr style=\"text-align: right;\">\n",
       "      <th></th>\n",
       "      <th>BNF Chapter</th>\n",
       "      <th>BNF Chapter Code</th>\n",
       "      <th>BNF Section</th>\n",
       "      <th>BNF Section Code</th>\n",
       "      <th>BNF Paragraph</th>\n",
       "      <th>BNF Paragraph Code</th>\n",
       "      <th>BNF Subparagraph</th>\n",
       "      <th>BNF Subparagraph Code</th>\n",
       "      <th>BNF Chemical Substance</th>\n",
       "      <th>BNF Chemical Substance Code</th>\n",
       "      <th>BNF Product</th>\n",
       "      <th>BNF Product Code</th>\n",
       "      <th>BNF Presentation</th>\n",
       "      <th>BNF Presentation Code</th>\n",
       "    </tr>\n",
       "  </thead>\n",
       "  <tbody>\n",
       "    <tr>\n",
       "      <th>0</th>\n",
       "      <td>Gastro-Intestinal System</td>\n",
       "      <td>1</td>\n",
       "      <td>Dyspep&amp;Gastro-Oesophageal Reflux Disease</td>\n",
       "      <td>101</td>\n",
       "      <td>Antacids and Simeticone</td>\n",
       "      <td>10101</td>\n",
       "      <td>Antacids and Simeticone</td>\n",
       "      <td>101010</td>\n",
       "      <td>Other Antacid &amp; Simeticone Preps</td>\n",
       "      <td>010101000</td>\n",
       "      <td>Proprietary Co Prepn Bnf 0101010</td>\n",
       "      <td>010101000BB</td>\n",
       "      <td>Langdales_Cinnamon Tab</td>\n",
       "      <td>010101000BBABA0</td>\n",
       "    </tr>\n",
       "    <tr>\n",
       "      <th>1</th>\n",
       "      <td>Gastro-Intestinal System</td>\n",
       "      <td>1</td>\n",
       "      <td>Dyspep&amp;Gastro-Oesophageal Reflux Disease</td>\n",
       "      <td>101</td>\n",
       "      <td>Antacids and Simeticone</td>\n",
       "      <td>10101</td>\n",
       "      <td>Antacids and Simeticone</td>\n",
       "      <td>101010</td>\n",
       "      <td>Other Antacid &amp; Simeticone Preps</td>\n",
       "      <td>010101000</td>\n",
       "      <td>Proprietary Co Prepn Bnf 0101010</td>\n",
       "      <td>010101000BB</td>\n",
       "      <td>Mylanta 11_Tab</td>\n",
       "      <td>010101000BBADA0</td>\n",
       "    </tr>\n",
       "  </tbody>\n",
       "</table>\n",
       "</div>"
      ],
      "text/plain": [
       "                BNF Chapter  BNF Chapter Code  \\\n",
       "0  Gastro-Intestinal System                 1   \n",
       "1  Gastro-Intestinal System                 1   \n",
       "\n",
       "                                BNF Section  BNF Section Code  \\\n",
       "0  Dyspep&Gastro-Oesophageal Reflux Disease               101   \n",
       "1  Dyspep&Gastro-Oesophageal Reflux Disease               101   \n",
       "\n",
       "             BNF Paragraph  BNF Paragraph Code         BNF Subparagraph  \\\n",
       "0  Antacids and Simeticone               10101  Antacids and Simeticone   \n",
       "1  Antacids and Simeticone               10101  Antacids and Simeticone   \n",
       "\n",
       "   BNF Subparagraph Code            BNF Chemical Substance  \\\n",
       "0                 101010  Other Antacid & Simeticone Preps   \n",
       "1                 101010  Other Antacid & Simeticone Preps   \n",
       "\n",
       "  BNF Chemical Substance Code                       BNF Product  \\\n",
       "0                   010101000  Proprietary Co Prepn Bnf 0101010   \n",
       "1                   010101000  Proprietary Co Prepn Bnf 0101010   \n",
       "\n",
       "  BNF Product Code        BNF Presentation BNF Presentation Code  \n",
       "0      010101000BB  Langdales_Cinnamon Tab       010101000BBABA0  \n",
       "1      010101000BB          Mylanta 11_Tab       010101000BBADA0  "
      ]
     },
     "execution_count": 42,
     "metadata": {},
     "output_type": "execute_result"
    }
   ],
   "source": [
    "bnf.head(2) "
   ]
  },
  {
   "cell_type": "code",
   "execution_count": 52,
   "metadata": {},
   "outputs": [],
   "source": [
    "# Sorting this out on a toy practive dataset - then apply to the full one in a minute\n",
    "toycompbnf['bnf.chapter'] = toycompbnf['bnf.code'].str[:2] # Select the first two rows of the dataset = chapter\n",
    "toycompbnf['bnf.section'] = toycompbnf['bnf.code'].str[2:4]# Select the 3 + 4 rows of the dataset = BNF section\n",
    "toycompbnf['bnf.paragraph'] = toycompbnf['bnf.code'].str[4:6]\n",
    "toycompbnf['bnf.letters'] = toycompbnf['bnf.code'].str[9:15]# Select the 5 + 6 rows of the dataset = BNF paragraph\n"
   ]
  },
  {
   "cell_type": "code",
   "execution_count": 53,
   "metadata": {},
   "outputs": [
    {
     "data": {
      "text/html": [
       "<div>\n",
       "<style scoped>\n",
       "    .dataframe tbody tr th:only-of-type {\n",
       "        vertical-align: middle;\n",
       "    }\n",
       "\n",
       "    .dataframe tbody tr th {\n",
       "        vertical-align: top;\n",
       "    }\n",
       "\n",
       "    .dataframe thead th {\n",
       "        text-align: right;\n",
       "    }\n",
       "</style>\n",
       "<table border=\"1\" class=\"dataframe\">\n",
       "  <thead>\n",
       "    <tr style=\"text-align: right;\">\n",
       "      <th></th>\n",
       "      <th>bnf.code</th>\n",
       "      <th>bnf.chapter</th>\n",
       "      <th>bnf.section</th>\n",
       "      <th>bnf.paragraph</th>\n",
       "      <th>bnf.letters</th>\n",
       "    </tr>\n",
       "  </thead>\n",
       "  <tbody>\n",
       "    <tr>\n",
       "      <th>0</th>\n",
       "      <td>0403010V0AAARAR</td>\n",
       "      <td>04</td>\n",
       "      <td>03</td>\n",
       "      <td>01</td>\n",
       "      <td>AAARAR</td>\n",
       "    </tr>\n",
       "    <tr>\n",
       "      <th>1</th>\n",
       "      <td>0403010V0AAARAR</td>\n",
       "      <td>04</td>\n",
       "      <td>03</td>\n",
       "      <td>01</td>\n",
       "      <td>AAARAR</td>\n",
       "    </tr>\n",
       "    <tr>\n",
       "      <th>2</th>\n",
       "      <td>090402000BBRRA0</td>\n",
       "      <td>09</td>\n",
       "      <td>04</td>\n",
       "      <td>02</td>\n",
       "      <td>BBRRA0</td>\n",
       "    </tr>\n",
       "    <tr>\n",
       "      <th>3</th>\n",
       "      <td>090402000BBRRA0</td>\n",
       "      <td>09</td>\n",
       "      <td>04</td>\n",
       "      <td>02</td>\n",
       "      <td>BBRRA0</td>\n",
       "    </tr>\n",
       "    <tr>\n",
       "      <th>4</th>\n",
       "      <td>090402000BBRRA0</td>\n",
       "      <td>09</td>\n",
       "      <td>04</td>\n",
       "      <td>02</td>\n",
       "      <td>BBRRA0</td>\n",
       "    </tr>\n",
       "    <tr>\n",
       "      <th>5</th>\n",
       "      <td>090402000BBRRA0</td>\n",
       "      <td>09</td>\n",
       "      <td>04</td>\n",
       "      <td>02</td>\n",
       "      <td>BBRRA0</td>\n",
       "    </tr>\n",
       "    <tr>\n",
       "      <th>6</th>\n",
       "      <td>1304000H0AAAAAA</td>\n",
       "      <td>13</td>\n",
       "      <td>04</td>\n",
       "      <td>00</td>\n",
       "      <td>AAAAAA</td>\n",
       "    </tr>\n",
       "    <tr>\n",
       "      <th>7</th>\n",
       "      <td>1304000H0AAAAAA</td>\n",
       "      <td>13</td>\n",
       "      <td>04</td>\n",
       "      <td>00</td>\n",
       "      <td>AAAAAA</td>\n",
       "    </tr>\n",
       "    <tr>\n",
       "      <th>8</th>\n",
       "      <td>1304000H0AAAAAA</td>\n",
       "      <td>13</td>\n",
       "      <td>04</td>\n",
       "      <td>00</td>\n",
       "      <td>AAAAAA</td>\n",
       "    </tr>\n",
       "    <tr>\n",
       "      <th>9</th>\n",
       "      <td>1304000H0AAAAAA</td>\n",
       "      <td>13</td>\n",
       "      <td>04</td>\n",
       "      <td>00</td>\n",
       "      <td>AAAAAA</td>\n",
       "    </tr>\n",
       "  </tbody>\n",
       "</table>\n",
       "</div>"
      ],
      "text/plain": [
       "          bnf.code bnf.chapter bnf.section bnf.paragraph bnf.letters\n",
       "0  0403010V0AAARAR          04          03            01      AAARAR\n",
       "1  0403010V0AAARAR          04          03            01      AAARAR\n",
       "2  090402000BBRRA0          09          04            02      BBRRA0\n",
       "3  090402000BBRRA0          09          04            02      BBRRA0\n",
       "4  090402000BBRRA0          09          04            02      BBRRA0\n",
       "5  090402000BBRRA0          09          04            02      BBRRA0\n",
       "6  1304000H0AAAAAA          13          04            00      AAAAAA\n",
       "7  1304000H0AAAAAA          13          04            00      AAAAAA\n",
       "8  1304000H0AAAAAA          13          04            00      AAAAAA\n",
       "9  1304000H0AAAAAA          13          04            00      AAAAAA"
      ]
     },
     "execution_count": 53,
     "metadata": {},
     "output_type": "execute_result"
    }
   ],
   "source": [
    "toycompbnf.head(10)"
   ]
  },
  {
   "cell_type": "code",
   "execution_count": 50,
   "metadata": {},
   "outputs": [
    {
     "name": "stdout",
     "output_type": "stream",
     "text": [
      "       BNF Chapter Code  BNF Section Code  BNF Paragraph Code  \\\n",
      "count      81655.000000      81655.000000        81655.000000   \n",
      "mean          12.418358       1257.742771       125780.934089   \n",
      "std            7.502278        765.414551        76548.068607   \n",
      "min            1.000000        101.000000        10101.000000   \n",
      "25%            6.000000        601.000000        60106.000000   \n",
      "50%            9.000000        912.000000        91200.000000   \n",
      "75%           21.000000       2101.000000       210109.000000   \n",
      "max           23.000000       2399.000000       239900.000000   \n",
      "\n",
      "       BNF Subparagraph Code  \n",
      "count           8.165500e+04  \n",
      "mean            1.257810e+06  \n",
      "std             7.654811e+05  \n",
      "min             1.010100e+05  \n",
      "25%             6.010600e+05  \n",
      "50%             9.120000e+05  \n",
      "75%             2.101090e+06  \n",
      "max             2.399000e+06  \n"
     ]
    }
   ],
   "source": [
    "print(bnf.describe()) # Shows that need to add a 0 onto ones that don't start with a 1\n",
    "# Or drop a 0 from the ones I have "
   ]
  },
  {
   "cell_type": "markdown",
   "metadata": {},
   "source": [
    "### Trying to create an algorithm that adds a 0 on\n",
    "\n",
    "For strings in bnf where chapter code length = 1, add a 0 on to the beginning.\n",
    "Add it into a new column to try it out, then apply it to the original column in the data set. "
   ]
  }
 ],
 "metadata": {
  "kernelspec": {
   "display_name": "Python 3",
   "language": "python",
   "name": "python3"
  },
  "language_info": {
   "codemirror_mode": {
    "name": "ipython",
    "version": 3
   },
   "file_extension": ".py",
   "mimetype": "text/x-python",
   "name": "python",
   "nbconvert_exporter": "python",
   "pygments_lexer": "ipython3",
   "version": "3.7.3"
  }
 },
 "nbformat": 4,
 "nbformat_minor": 4
}
