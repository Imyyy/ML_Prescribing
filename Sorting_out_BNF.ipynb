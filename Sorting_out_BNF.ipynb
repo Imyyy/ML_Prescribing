{
 "cells": [
  {
   "cell_type": "markdown",
   "metadata": {},
   "source": [
    "# Sorting out BNF\n",
    "\n",
    "Using knowledge from datalab and the spreadsheet from the NHS on converting the BNF codes to create a simplified dataset that allows for basic analysis of BNF data"
   ]
  },
  {
   "cell_type": "code",
   "execution_count": 5,
   "metadata": {},
   "outputs": [],
   "source": [
    "import os\n",
    "os.chdir('../Data') # Set the working directory to the data folder"
   ]
  },
  {
   "cell_type": "code",
   "execution_count": 6,
   "metadata": {},
   "outputs": [],
   "source": [
    "import pandas as pd"
   ]
  },
  {
   "cell_type": "code",
   "execution_count": 7,
   "metadata": {},
   "outputs": [
    {
     "name": "stderr",
     "output_type": "stream",
     "text": [
      "/Users/imyyounge/anaconda3/lib/python3.7/site-packages/IPython/core/interactiveshell.py:3057: DtypeWarning: Columns (9,11,13) have mixed types. Specify dtype option on import or set low_memory=False.\n",
      "  interactivity=interactivity, compiler=compiler, result=result)\n"
     ]
    }
   ],
   "source": [
    "# Import the two necessary datasets\n",
    "toycomp = pd.read_csv('Combined_TOYCOMP_NHS_data.csv')\n",
    "bnf = pd.read_csv('20200201_1580570906919_BNF_Code_Information.csv')\n",
    "bnf = pd.DataFrame(bnf) # Convert bnf to dataframe\n",
    "def rename_unname(df):\n",
    "    for col in df:\n",
    "        if col.startswith('Unnamed'):\n",
    "            df.drop(col,axis=1, inplace=True)\n",
    "rename_unname(toycomp) # Remove the unnamed column that appears in the dataset"
   ]
  },
  {
   "cell_type": "markdown",
   "metadata": {},
   "source": [
    "Aim: Want to separate out into having a dictionary one, for each of the two columns.\n",
    "Need to check the spacing works, as in this one, the first column only has one reference number. Thinking only want to go up to the 6th column as at this point going too specific on the disease. there is "
   ]
  },
  {
   "cell_type": "code",
   "execution_count": 8,
   "metadata": {},
   "outputs": [],
   "source": [
    "# Sorting this out on a toy practive dataset - then apply to the full one in a minute\n",
    "toycomp['bnf.chapter'] = toycomp['bnf.code'].str[:2] # Select the first two rows of the dataset = chapter\n",
    "toycomp['bnf.section'] = toycomp['bnf.code'].str[2:4]# Select the 3 + 4 rows of the dataset = BNF section\n",
    "toycomp['bnf.paragraph'] = toycomp['bnf.code'].str[4:6] # Select the 5 + 6 rows of the dataset = BNF paragraph\n",
    "toycomp['bnf.chemical'] = toycomp['bnf.code'].str[7:9]\n",
    "toycomp['bnf.letters'] = toycomp['bnf.code'].str[9:15]"
   ]
  },
  {
   "cell_type": "code",
   "execution_count": 9,
   "metadata": {},
   "outputs": [
    {
     "name": "stdout",
     "output_type": "stream",
     "text": [
      "['timepoint', 'e8...', 'name', 'address_1', 'address_2', 'address_3', 'area', 'postcode', 'national_grouping', 'high_level_health_geography', 'date_open', 'date_close', 'status_code', 'subtype', 'commissioner', 'setting_all_gp_reference', 'type', 'ccg_code', 'ons_ccg_code', 'sex', 'age', 'number_of_patients', 'organisation_code', 'ccg/pct', 'primary_care_organisation_type', 'join_parent_date', 'left_parent_date', 'amended_record_indicator', 'sha', 'practice', 'bnf.code', 'bnf.name', 'items', 'nic', 'act.cost', 'quantity', 'period', 'bnf.chapter', 'bnf.section', 'bnf.paragraph', 'bnf.chemical', 'bnf.letters']\n"
     ]
    }
   ],
   "source": [
    "print(list(toycomp.columns))"
   ]
  },
  {
   "cell_type": "markdown",
   "metadata": {},
   "source": [
    "# BNF\n",
    "### Formatting dataframe to compare bnf code to final dataset\n",
    "\n",
    "For strings in bnf where chapter code length = 1, add a 0 on to the beginning.\n",
    "Add it into a new column to try it out, then apply it to the original column in the data set.   \n",
    "Reference on this function: https://docs.python.org/3/library/stdtypes.html#str.ljust"
   ]
  },
  {
   "cell_type": "code",
   "execution_count": 10,
   "metadata": {},
   "outputs": [],
   "source": [
    "bnf.rename(columns={'BNF Chapter Code':'bnf-chaptercode', 'BNF Section Code':'bnf-sectioncode', \n",
    "                    'BNF Paragraph Code':'bnf-paragraph'}, inplace=True)\n",
    "to_drop = ['BNF Subparagraph Code']\n",
    "bnf.drop(to_drop, axis=1, inplace=True)"
   ]
  },
  {
   "cell_type": "code",
   "execution_count": 11,
   "metadata": {},
   "outputs": [],
   "source": [
    "bnf['bnf-chaptercode'] = bnf['bnf-chaptercode'].astype(str).str.zfill(2) # Make chapter code two long to compare\n",
    "bnf['bnf-sectioncode'] = bnf['bnf-sectioncode'].astype(str).str[1:3] \n",
    "bnf['bnf-paragraph'] = bnf['bnf-paragraph'].astype(str).str[3:5] "
   ]
  },
  {
   "cell_type": "markdown",
   "metadata": {},
   "source": [
    "# Dealing with categorical variables"
   ]
  },
  {
   "cell_type": "code",
   "execution_count": 12,
   "metadata": {},
   "outputs": [],
   "source": [
    "# Are all 'type' 'GP'?"
   ]
  },
  {
   "cell_type": "code",
   "execution_count": 21,
   "metadata": {},
   "outputs": [
    {
     "name": "stdout",
     "output_type": "stream",
     "text": [
      "(3652, 42)\n",
      "--------------------\n",
      "(3652, 43)\n",
      "--------------------\n",
      "--------------------\n",
      "['timepoint', 'e8...', 'name', 'address_1', 'address_2', 'address_3', 'area', 'postcode', 'national_grouping', 'high_level_health_geography', 'date_open', 'date_close', 'status_code', 'subtype', 'commissioner', 'setting_all_gp_reference', 'type', 'ccg_code', 'ons_ccg_code', 'sex', 'age', 'number_of_patients', 'organisation_code', 'ccg/pct', 'primary_care_organisation_type', 'join_parent_date', 'left_parent_date', 'amended_record_indicator', 'sha', 'practice', 'bnf.code', 'bnf.name', 'items', 'nic', 'act.cost', 'quantity', 'period', 'bnf.chapter', 'bnf.section', 'bnf.paragraph', 'bnf.chemical', 'bnf.letters', '00C', '00D', '00J', '00K', '00L', '00M', '00N', '00P', '00Q', '00R', '00T', '00V', '00X', '00Y', '01A', '01C', '01D', '01E', '01F', '01G', '01H', '01J', '01K', '01R', '01T', '01V', '01W', '01X', '01Y', '02A', '02D', '02E', '02F', '02G', '02H', '02M', '02N', '02P', '02Q', '02R', '02T', '02W', '02X', '02Y', '03A', '03D', '03E', '03F', '03H', '03J', '03K', '03L', '03M', '03N', '03Q', '03R', '03T', '03W', '04C', '04D', '04E', '04F', '04G', '04H', '04K', '04M', '04N', '04Q', '04V', '04Y', '05A', '05C', '05D', '05F', '05G', '05H', '05J', '05L', '05N', '05Q', '05R', '05T', '05V', '05W', '05X', '05Y', '06A', '06F', '06H', '06K', '06L', '06M', '06N', '06P', '06Q', '06T', '06V', '06W', '06Y', '07G', '07H', '07J', '07K', '07L', '07M', '07N', '07P', '07Q', '07R', '07T', '07V', '07W', '07X', '07Y', '08A', '08C', '08D', '08E', '08F', '08G', '08H', '08J', '08K', '08L', '08M', '08N', '08P', '08Q', '08R', '08T', '08V', '08W', '08X', '08Y', '09A', '09C', '09D', '09E', '09F', '09G', '09H', '09J', '09L', '09N', '09P', '09W', '09X', '09Y', '10A', '10D', '10E', '10J', '10K', '10L', '10Q', '10R', '10V', '10X', '11A', '11E', '11J', '11M', '11N', '11X', '12D', '12F', '13T', '14L', '14Y', '15A', '15C', '15D', '15E', '15F', '15M', '15N', '99A', '99C', '99E', '99F', '99G', '99H', '99J', '99K', '99M', '99N']\n"
     ]
    }
   ],
   "source": [
    "print(toycomp.shape)\n",
    "print('-'*20)\n",
    "test = pd.concat([toycomp, pd.get_dummies(toycomp['status_code'])], 1) # Trying this tactic with status_code\n",
    "#Create a dataset that converts categorical variables into a separate column per variable with a yes or a no\n",
    "print(test.shape)\n",
    "print('-'*20)\n",
    "test = pd.concat([toycomp, pd.get_dummies(toycomp['commissioner'])], 1)\n",
    "print('-'*20)\n",
    "print(list(test.columns)) # Can see all the commissionernames addedon"
   ]
  },
  {
   "cell_type": "code",
   "execution_count": null,
   "metadata": {},
   "outputs": [],
   "source": []
  },
  {
   "cell_type": "code",
   "execution_count": null,
   "metadata": {},
   "outputs": [],
   "source": []
  },
  {
   "cell_type": "code",
   "execution_count": null,
   "metadata": {},
   "outputs": [],
   "source": []
  },
  {
   "cell_type": "code",
   "execution_count": null,
   "metadata": {},
   "outputs": [],
   "source": []
  },
  {
   "cell_type": "markdown",
   "metadata": {},
   "source": [
    "# Export final bnf dataframe"
   ]
  },
  {
   "cell_type": "code",
   "execution_count": 216,
   "metadata": {},
   "outputs": [],
   "source": [
    "import csv\n",
    "bnf_chapter_dictionary = bnf[['BNF Chapter', 'bnf-chaptercode', 'BNF Product Code']]\n",
    "bnf_chapter_dictionary.to_csv(\"bnf_chapter_dictionary\")\n",
    "bnf_section_dictionary = bnf[['BNF Section', 'bnf-sectioncode', 'BNF Product Code']]\n",
    "bnf_section_dictionary.to_csv(\"bnf_bnf_section_dictionary\")\n",
    "bnf_paragraph_dictionary = bnf[['BNF Paragraph', 'bnf-paragraph', 'BNF Product Code']]\n",
    "bnf_paragraph_dictionary.to_csv(\"bnf_paragraph_dictionary\")"
   ]
  },
  {
   "cell_type": "code",
   "execution_count": 218,
   "metadata": {},
   "outputs": [],
   "source": [
    "toycomp.to_csv(\"Combined_TOYCOMP_BNF_NHS_data.csv\")"
   ]
  },
  {
   "cell_type": "code",
   "execution_count": null,
   "metadata": {},
   "outputs": [],
   "source": []
  }
 ],
 "metadata": {
  "kernelspec": {
   "display_name": "Python 3",
   "language": "python",
   "name": "python3"
  },
  "language_info": {
   "codemirror_mode": {
    "name": "ipython",
    "version": 3
   },
   "file_extension": ".py",
   "mimetype": "text/x-python",
   "name": "python",
   "nbconvert_exporter": "python",
   "pygments_lexer": "ipython3",
   "version": "3.7.3"
  }
 },
 "nbformat": 4,
 "nbformat_minor": 4
}
